{
 "cells": [
  {
   "cell_type": "markdown",
   "id": "3a3b5a9e-36e3-4672-9a48-8e00e19d5772",
   "metadata": {},
   "source": [
    "<h3>Image compression using KMEANS</h3>"
   ]
  },
  {
   "cell_type": "code",
   "execution_count": 9,
   "id": "6d6b577c-fc3d-46fd-9ac9-6c76c8cb9b7a",
   "metadata": {},
   "outputs": [],
   "source": [
    "from skimage import io\n",
    "from sklearn.cluster import KMeans\n",
    "import numpy as np\n",
    "import matplotlib.pyplot as plt\n",
    "import matplotlib.pyplot as img\n",
    "\n",
    "image=io.imread(\"bird.jpg\")\n",
    "image_r=(image/255.0).reshape(-1,3)\n",
    "k_colors=KMeans(n_clusters=20).fit(image_r)\n",
    "img128=k_colors.cluster_centers_[k_colors.labels_]\n",
    "img128=np.reshape(img128,(image.shape))\n",
    "img.imsave(\"img.jpg\",img128)"
   ]
  }
 ],
 "metadata": {
  "kernelspec": {
   "display_name": "Python 3 (ipykernel)",
   "language": "python",
   "name": "python3"
  },
  "language_info": {
   "codemirror_mode": {
    "name": "ipython",
    "version": 3
   },
   "file_extension": ".py",
   "mimetype": "text/x-python",
   "name": "python",
   "nbconvert_exporter": "python",
   "pygments_lexer": "ipython3",
   "version": "3.12.3"
  }
 },
 "nbformat": 4,
 "nbformat_minor": 5
}
