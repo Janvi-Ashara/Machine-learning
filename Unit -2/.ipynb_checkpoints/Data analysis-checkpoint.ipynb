{
 "cells": [
  {
   "cell_type": "code",
   "execution_count": 9,
   "id": "d55433cc",
   "metadata": {},
   "outputs": [
    {
     "name": "stdout",
     "output_type": "stream",
     "text": [
      "[[3 2]\n",
      " [7 3]\n",
      " [8 4]]\n",
      "[6. 3.]\n",
      "[2.1602469  0.81649658]\n",
      "[[-3. -1.]\n",
      " [ 1.  0.]\n",
      " [ 2.  1.]]\n",
      "[0. 0.]\n",
      "[2.1602469  0.81649658]\n",
      "\n",
      "----way2----\n",
      "\n",
      "[[-1.38873015 -1.22474487]\n",
      " [ 0.46291005  0.        ]\n",
      " [ 0.9258201   1.22474487]]\n",
      "[0. 0.]\n",
      "[1. 1.]\n"
     ]
    }
   ],
   "source": [
    "import numpy as np\n",
    "from sklearn import preprocessing\n",
    "\n",
    "data=np.array([[3,2],[7,3],[8,4]])\n",
    "print(data)\n",
    "\n",
    "# mean removal : it means mean =0 , std=1\n",
    "#way 1\n",
    "#mean=average\n",
    "\n",
    "mean_val=data.mean(axis=0)\n",
    "print(mean_val)\n",
    "\n",
    "#standard deviation\n",
    "std=data.std(axis=0)\n",
    "print(std)\n",
    "\n",
    "final_val=data - mean_val\n",
    "print(final_val)\n",
    "print(final_val.mean(axis=0))\n",
    "print(final_val.std(axis=0))\n",
    "\n",
    "print()\n",
    "print('----way2----')\n",
    "print()\n",
    "# way-2\n",
    "#scale()\n",
    "final=preprocessing.scale(data)\n",
    "print(final)\n",
    "print(final.mean(axis=0))\n",
    "print(final.std(axis=0))"
   ]
  },
  {
   "cell_type": "code",
   "execution_count": 10,
   "id": "36a15e65",
   "metadata": {},
   "outputs": [
    {
     "name": "stdout",
     "output_type": "stream",
     "text": [
      "   Year  Person  Males  Females\n",
      "0  1951   18.33  27.16     8.86\n",
      "1  1961   28.33  40.16    15.86\n",
      "2  1971   15.33  45.16    21.86\n",
      "3  1981   34.33  56.16    29.86\n",
      "4  1991   43.33  64.16    39.86\n",
      "5  2001   52.33  72.16    43.86\n",
      "6  2011   64.33  75.16    54.86\n",
      "7  2021   73.33  80.16    65.86\n",
      "   Person  Males  Females\n",
      "0   18.33  27.16     8.86\n",
      "1   28.33  40.16    15.86\n",
      "2   15.33  45.16    21.86\n",
      "3   34.33  56.16    29.86\n",
      "4   43.33  64.16    39.86\n",
      "5   52.33  72.16    43.86\n",
      "6   64.33  75.16    54.86\n",
      "7   73.33  80.16    65.86\n",
      "Person     41.205\n",
      "Males      57.535\n",
      "Females    35.110\n",
      "dtype: float64\n",
      "Person     21.047141\n",
      "Males      18.745952\n",
      "Females    19.630516\n",
      "dtype: float64\n",
      "[-5.55111512e-17  0.00000000e+00  0.00000000e+00]\n",
      "[1. 1. 1.]\n"
     ]
    }
   ],
   "source": [
    "import pandas as pd\n",
    "df=pd.read_csv('person.csv')\n",
    "print(df)\n",
    "data=df[['Person','Males','Females']]\n",
    "print(data)\n",
    "\n",
    "print(data.mean(axis=0))\n",
    "print(data.std(axis=0))\n",
    "\n",
    "mean_removed_data=preprocessing.scale(data)\n",
    "print(mean_removed_data.mean(axis=0))\n",
    "print(mean_removed_data.std(axis=0))"
   ]
  },
  {
   "cell_type": "code",
   "execution_count": 19,
   "id": "63c1c6ca",
   "metadata": {},
   "outputs": [
    {
     "name": "stdout",
     "output_type": "stream",
     "text": [
      "[[0.2 1. ]\n",
      " [1.  0. ]\n",
      " [0.  0. ]]\n",
      "\n",
      "------csv data-------\n",
      "\n",
      "   Person  Males  Females\n",
      "0   18.33  27.16     8.86\n",
      "1   28.33  40.16    15.86\n",
      "2   15.33  45.16    21.86\n",
      "3   34.33  56.16    29.86\n",
      "4   43.33  64.16    39.86\n",
      "5   52.33  72.16    43.86\n",
      "6   64.33  75.16    54.86\n",
      "7   73.33  80.16    65.86\n",
      "[[0.05172414 0.         0.        ]\n",
      " [0.22413793 0.24528302 0.12280702]\n",
      " [0.         0.33962264 0.22807018]\n",
      " [0.32758621 0.54716981 0.36842105]\n",
      " [0.48275862 0.69811321 0.54385965]\n",
      " [0.63793103 0.8490566  0.61403509]\n",
      " [0.84482759 0.90566038 0.80701754]\n",
      " [1.         1.         1.        ]]\n"
     ]
    }
   ],
   "source": [
    "data=np.array([[3,5],[7,4],[2,4]])\n",
    "\n",
    "# define a Scaller modelfor scalling the data\n",
    "scaller_model=preprocessing.MinMaxScaler()\n",
    "\n",
    "# Apply data to the model : fit\n",
    "op1 = scaller_model.fit(data)\n",
    "\n",
    "# the model transfer the data according to requirement : transform\n",
    "op2= op1.transform(data)\n",
    "\n",
    "# print \n",
    "print(op2)\n",
    "\n",
    "print()\n",
    "print('------csv data-------')\n",
    "print()\n",
    "\n",
    "df=pd.read_csv('person.csv')\n",
    "data=df[['Person','Males','Females']]\n",
    "print(data)\n",
    "scaller_model=preprocessing.MinMaxScaler()\n",
    "op1 = scaller_model.fit(data)\n",
    "op2= op1.transform(data)\n",
    "print(op2)"
   ]
  },
  {
   "cell_type": "code",
   "execution_count": 28,
   "id": "4024f465",
   "metadata": {},
   "outputs": [
    {
     "name": "stdout",
     "output_type": "stream",
     "text": [
      "[[0.2 1. ]\n",
      " [1.  0. ]\n",
      " [0.  0. ]]\n",
      "\n",
      "------csv data-------\n",
      "\n",
      "   Person  Males  Females\n",
      "0   18.33  27.16     8.86\n",
      "1   28.33  40.16    15.86\n",
      "2   15.33  45.16    21.86\n",
      "3   34.33  56.16    29.86\n",
      "4   43.33  64.16    39.86\n",
      "5   52.33  72.16    43.86\n",
      "6   64.33  75.16    54.86\n",
      "7   73.33  80.16    65.86\n",
      "[[0.05172414 0.         0.        ]\n",
      " [0.22413793 0.24528302 0.12280702]\n",
      " [0.         0.33962264 0.22807018]\n",
      " [0.32758621 0.54716981 0.36842105]\n",
      " [0.48275862 0.69811321 0.54385965]\n",
      " [0.63793103 0.8490566  0.61403509]\n",
      " [0.84482759 0.90566038 0.80701754]\n",
      " [1.         1.         1.        ]]\n"
     ]
    }
   ],
   "source": [
    "data=np.array([[3,5],[7,4],[2,4]])\n",
    "\n",
    "# define a Scaller modelfor scalling the data\n",
    "scaller_model=preprocessing.MinMaxScaler()\n",
    "\n",
    "# Apply data to the model and let  the model transfer the data according\n",
    "op=scaller_model.fit_transform(data)\n",
    "print(op)\n",
    "\n",
    "print()\n",
    "print('------csv data-------')\n",
    "print()\n",
    "df=pd.read_csv('person.csv')\n",
    "data=df[['Person','Males','Females']]\n",
    "print(data)\n",
    "scaller_model=preprocessing.MinMaxScaler()\n",
    "op=scaller_model.fit_transform(data)\n",
    "print(op)"
   ]
  },
  {
   "cell_type": "markdown",
   "id": "133a052b",
   "metadata": {},
   "source": [
    "# Normalization"
   ]
  },
  {
   "cell_type": "code",
   "execution_count": 35,
   "id": "1eaebe11",
   "metadata": {},
   "outputs": [
    {
     "name": "stdout",
     "output_type": "stream",
     "text": [
      "[[0.6        1.        ]\n",
      " [1.         0.57142857]\n",
      " [0.5        1.        ]]\n",
      "\n",
      "------csv data-------\n",
      "\n",
      "   Person  Males  Females\n",
      "0   18.33  27.16     8.86\n",
      "1   28.33  40.16    15.86\n",
      "2   15.33  45.16    21.86\n",
      "3   34.33  56.16    29.86\n",
      "4   43.33  64.16    39.86\n",
      "5   52.33  72.16    43.86\n",
      "6   64.33  75.16    54.86\n",
      "7   73.33  80.16    65.86\n",
      "[[0.33725851 0.49972401 0.16301748]\n",
      " [0.33586248 0.47611144 0.18802608]\n",
      " [0.18615665 0.54839101 0.26545234]\n",
      " [0.28525135 0.46663897 0.24810968]\n",
      " [0.29406176 0.43542586 0.27051239]\n",
      " [0.31084051 0.42863083 0.26052866]\n",
      " [0.33100077 0.38672498 0.28227425]\n",
      " [0.3343059  0.36544336 0.30025074]]\n"
     ]
    }
   ],
   "source": [
    "data=np.array([[3,5],[7,4],[2,4]])\n",
    "op=preprocessing.normalize(data,norm='max')\n",
    "# op=preprocessing.normalize(data,norm='l1')\n",
    "# op=preprocessing.normalize(data,norm='l2')\n",
    "print(op)\n",
    "\n",
    "\n",
    "print()\n",
    "print('------csv data-------')\n",
    "print()\n",
    "\n",
    "df=pd.read_csv('person.csv')\n",
    "data=df[['Person','Males','Females']]\n",
    "print(data)\n",
    "op=preprocessing.normalize(data,norm='l1')\n",
    "print(op)"
   ]
  }
 ],
 "metadata": {
  "kernelspec": {
   "display_name": "Python 3 (ipykernel)",
   "language": "python",
   "name": "python3"
  },
  "language_info": {
   "codemirror_mode": {
    "name": "ipython",
    "version": 3
   },
   "file_extension": ".py",
   "mimetype": "text/x-python",
   "name": "python",
   "nbconvert_exporter": "python",
   "pygments_lexer": "ipython3",
   "version": "3.9.6"
  }
 },
 "nbformat": 4,
 "nbformat_minor": 5
}
