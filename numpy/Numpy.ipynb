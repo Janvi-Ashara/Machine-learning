{
 "cells": [
  {
   "cell_type": "code",
   "execution_count": 3,
   "id": "f84955ff-97f0-45c0-82c0-37cb4b8a0c34",
   "metadata": {},
   "outputs": [
    {
     "data": {
      "text/plain": [
       "array([1, 2, 3])"
      ]
     },
     "execution_count": 3,
     "metadata": {},
     "output_type": "execute_result"
    }
   ],
   "source": [
    "import numpy as np\n",
    "a=np.array([1,2,3])\n",
    "a\n",
    "# print(type(a))"
   ]
  },
  {
   "cell_type": "markdown",
   "id": "e3f54f2a-6b08-4252-b4ef-83f988d7e114",
   "metadata": {},
   "source": [
    "### Fast or slow between list or array"
   ]
  },
  {
   "cell_type": "code",
   "execution_count": 9,
   "id": "f24f05c1-ff4a-48c6-88a4-a3b878a0c463",
   "metadata": {},
   "outputs": [
    {
     "name": "stdout",
     "output_type": "stream",
     "text": [
      "2.19 μs ± 24 ns per loop (mean ± std. dev. of 7 runs, 100,000 loops each)\n"
     ]
    }
   ],
   "source": [
    "%timeit [j**4 for j in range(1,9)]"
   ]
  },
  {
   "cell_type": "code",
   "execution_count": 8,
   "id": "7d568836-823c-4974-8c1e-ad608535847a",
   "metadata": {},
   "outputs": [
    {
     "name": "stdout",
     "output_type": "stream",
     "text": [
      "1.82 μs ± 21.1 ns per loop (mean ± std. dev. of 7 runs, 1,000,000 loops each)\n"
     ]
    }
   ],
   "source": [
    "%timeit np.arange(1,9)**4"
   ]
  },
  {
   "cell_type": "code",
   "execution_count": 16,
   "id": "2b59361e-5d92-4d8b-9140-e3a0d8d52782",
   "metadata": {},
   "outputs": [
    {
     "name": "stdout",
     "output_type": "stream",
     "text": [
      "[2 4 6 8]\n",
      "\n",
      "[0.  0.5 1.  1.5 2.  2.5 3.  3.5 4.  4.5]\n"
     ]
    }
   ],
   "source": [
    "from numpy import *\n",
    "a=arange(2,10,2)\n",
    "print(a)\n",
    "print()\n",
    "arr = np.arange(0, 5, 0.5)\n",
    "print(arr)"
   ]
  },
  {
   "cell_type": "markdown",
   "id": "b9164e91-a2d3-41de-8201-bdf4b3f6d7ea",
   "metadata": {},
   "source": [
    "### How to create array"
   ]
  },
  {
   "cell_type": "code",
   "execution_count": 31,
   "id": "6b05bb8e-cdbe-4366-9d51-4a3b3da3e0c5",
   "metadata": {},
   "outputs": [
    {
     "name": "stdout",
     "output_type": "stream",
     "text": [
      "[1 2 3]\n",
      "<class 'numpy.ndarray'>\n"
     ]
    }
   ],
   "source": [
    "a=np.array([1,2,3])\n",
    "print(a)\n",
    "print(type(a))"
   ]
  },
  {
   "cell_type": "markdown",
   "id": "7ae2df93-b46b-4706-aef5-8fd0669a1056",
   "metadata": {},
   "source": [
    "### user input an array"
   ]
  },
  {
   "cell_type": "code",
   "execution_count": 37,
   "id": "f69213ca-1761-45f5-bd96-a56496fbc9f9",
   "metadata": {},
   "outputs": [
    {
     "name": "stdin",
     "output_type": "stream",
     "text": [
      "How many numbers of add into array? 4\n"
     ]
    },
    {
     "name": "stdout",
     "output_type": "stream",
     "text": [
      "enter number :"
     ]
    },
    {
     "name": "stdin",
     "output_type": "stream",
     "text": [
      " 2\n"
     ]
    },
    {
     "name": "stdout",
     "output_type": "stream",
     "text": [
      "enter number :"
     ]
    },
    {
     "name": "stdin",
     "output_type": "stream",
     "text": [
      " 4\n"
     ]
    },
    {
     "name": "stdout",
     "output_type": "stream",
     "text": [
      "enter number :"
     ]
    },
    {
     "name": "stdin",
     "output_type": "stream",
     "text": [
      " 6\n"
     ]
    },
    {
     "name": "stdout",
     "output_type": "stream",
     "text": [
      "enter number :"
     ]
    },
    {
     "name": "stdin",
     "output_type": "stream",
     "text": [
      " 7\n"
     ]
    },
    {
     "name": "stdout",
     "output_type": "stream",
     "text": [
      "[2, 4, 6, 7]\n",
      "[2 4 6 7]\n"
     ]
    }
   ],
   "source": [
    "l=[]\n",
    "a=int(input('How many numbers of add into array?'))\n",
    "for i in range(a):\n",
    "    print('enter number :',end='')\n",
    "    l.append(int(input()))\n",
    "print(l)  # printlist \n",
    "print(np.array(l))   # print array "
   ]
  },
  {
   "cell_type": "code",
   "execution_count": 40,
   "id": "455845fd-ba91-4739-8d90-124d6a19f99a",
   "metadata": {},
   "outputs": [
    {
     "name": "stdin",
     "output_type": "stream",
     "text": [
      "how many number you want enter? 4\n",
      "enter number :  2\n",
      "enter number :  4\n",
      "enter number :  5\n",
      "enter number :  6\n"
     ]
    },
    {
     "name": "stdout",
     "output_type": "stream",
     "text": [
      "[2 4 5 6]\n"
     ]
    }
   ],
   "source": [
    "#another way\n",
    "st=[]\n",
    "a=int(input('how many number you want enter?'))\n",
    "for i in range(a):\n",
    "    a=int(input('enter number : '))\n",
    "    st.append(a)\n",
    "print(np.array(st))\n"
   ]
  },
  {
   "cell_type": "code",
   "execution_count": 46,
   "id": "9f48054b-a824-4c0f-aa47-910c9479a948",
   "metadata": {},
   "outputs": [
    {
     "name": "stdout",
     "output_type": "stream",
     "text": [
      "[[1 2 3 4]]\n",
      "2\n",
      "<class 'list'>\n"
     ]
    }
   ],
   "source": [
    "## check the dimension\n",
    "a=[1,2,3,4]\n",
    "y=np.array([a])\n",
    "print(y)\n",
    "print(y.ndim)  #how many dimension  \n",
    "print(type(a))"
   ]
  },
  {
   "cell_type": "code",
   "execution_count": 49,
   "id": "c3c2334b-7a16-454a-8c19-c95d6f6c251b",
   "metadata": {},
   "outputs": [
    {
     "name": "stdout",
     "output_type": "stream",
     "text": [
      "[[[[[[[[[[1 2 3 5]]]]]]]]]]\n",
      "10\n"
     ]
    }
   ],
   "source": [
    "# create multidimension\n",
    "ar=np.array([1,2,3,5],ndmin=10)\n",
    "print(ar)\n",
    "print(ar.ndim)"
   ]
  },
  {
   "cell_type": "code",
   "execution_count": 53,
   "id": "b884c334-322a-467b-8651-a8ec7086d09d",
   "metadata": {},
   "outputs": [
    {
     "name": "stdout",
     "output_type": "stream",
     "text": [
      "[0. 0. 0. 0. 0.]\n",
      "\n",
      "[[0. 0. 0. 0.]\n",
      " [0. 0. 0. 0.]\n",
      " [0. 0. 0. 0.]]\n"
     ]
    }
   ],
   "source": [
    "#zeros\n",
    "ar_zero=np.zeros(5)\n",
    "print(ar_zero)\n",
    "print()\n",
    "ar_zero1=np.zeros((3,4))\n",
    "print(ar_zero1)"
   ]
  },
  {
   "cell_type": "code",
   "execution_count": 75,
   "id": "5d61c9c1-2c24-4871-b0b2-9d3642918b34",
   "metadata": {},
   "outputs": [
    {
     "name": "stdout",
     "output_type": "stream",
     "text": [
      "[1. 1. 1.]\n",
      "\n",
      "[0.0e+000 4.9e-324 9.9e-324 1.5e-323]\n",
      "\n",
      "[0 1 2 3]\n",
      "\n",
      "[[1. 0. 0.]\n",
      " [0. 1. 0.]\n",
      " [0. 0. 1.]]\n",
      "\n",
      "[[1. 0. 0.]\n",
      " [0. 1. 0.]\n",
      " [0. 0. 1.]\n",
      " [0. 0. 0.]\n",
      " [0. 0. 0.]]\n",
      "\n",
      "[ 0.   2.5  5.   7.5 10. ]\n"
     ]
    }
   ],
   "source": [
    "# ones\n",
    "one=np.ones(3)\n",
    "print(one)\n",
    "\n",
    "print()\n",
    "\n",
    "# empty array\n",
    "emp=np.empty(4)\n",
    "print(emp)\n",
    "\n",
    "print()\n",
    "\n",
    "# range element\n",
    "ar_m= np.arange(4)\n",
    "print(ar_m)\n",
    "\n",
    "print()\n",
    "\n",
    "# Diangonal element\n",
    "ar_di=np.eye(3)\n",
    "print(ar_di)\n",
    "print()\n",
    "ar_di=np.eye(5,3)\n",
    "print(ar_di)\n",
    "\n",
    "print()\n",
    "\n",
    "# linspace \n",
    "ar_li=np.linspace(0,10,num=5)\n",
    "print(ar_li)"
   ]
  },
  {
   "cell_type": "code",
   "execution_count": 87,
   "id": "51242654-e3d3-4da5-b1db-251677cef583",
   "metadata": {},
   "outputs": [
    {
     "name": "stdout",
     "output_type": "stream",
     "text": [
      "[0.79679625 0.23320921 0.72885117 0.67743397 0.86458595 0.19543231\n",
      " 0.89000322 0.40110107 0.9666394  0.69993739]\n",
      "\n",
      "[[0.95671939 0.34749028 0.75190364 0.93010897 0.59873518]\n",
      " [0.82653712 0.7520373  0.69054919 0.77411819 0.63961284]]\n",
      "\n",
      "[ 0.64134854  0.5091255  -0.34835408 -0.06531347 -0.42134545]\n",
      "\n",
      "[0.21734468 0.98339994 0.83328757 0.69793424]\n",
      "\n",
      "[ 8 13  7 16  7]\n"
     ]
    }
   ],
   "source": [
    "var =np.random.rand(10)\n",
    "print(var)\n",
    "print()\n",
    "var2=np.random.rand(2,5)  #2 row and 5 column\n",
    "print(var2)\n",
    "print()\n",
    "\n",
    "var3=np.random.randn(5)\n",
    "print(var3)\n",
    "print()\n",
    "\n",
    "var4=np.random.ranf(4)\n",
    "print(var4)\n",
    "print()\n",
    "\n",
    "# var5=np.random.randint(min,max,total_value)\n",
    "var5=np.random.randint(5,20,5)\n",
    "print(var5)"
   ]
  },
  {
   "cell_type": "markdown",
   "id": "58b40e01-79e1-437a-bde8-1a099a0b78fa",
   "metadata": {},
   "source": [
    "## Datatype in array"
   ]
  },
  {
   "cell_type": "code",
   "execution_count": 94,
   "id": "2db49ab9-d86e-4207-8dc1-99e3c98c7326",
   "metadata": {},
   "outputs": [
    {
     "name": "stdout",
     "output_type": "stream",
     "text": [
      "Datatype:  int64\n",
      "Datatype:  float64\n",
      "Datatype:  <U1\n",
      "Datatype:  <U21\n"
     ]
    }
   ],
   "source": [
    "var6=np.array([1,2,3,5,6,7])\n",
    "print(\"Datatype: \",var6.dtype)\n",
    "var7=np.array([1.0,3.5,7.8])\n",
    "print(\"Datatype: \",var7.dtype)\n",
    "var8=np.array([\"a\",\"b\",\"c\"])\n",
    "print(\"Datatype: \",var8.dtype)\n",
    "var9=np.array([\"a\",\"j\",\"v\",1,5])\n",
    "print(\"Datatype: \",var9.dtype)"
   ]
  },
  {
   "cell_type": "markdown",
   "id": "056581f3-57c6-4962-9dad-d226374f05ca",
   "metadata": {},
   "source": [
    "## Arithmetic operation "
   ]
  },
  {
   "cell_type": "code",
   "execution_count": 130,
   "id": "0da73063-2ddd-43dd-9d26-d30e19e575d2",
   "metadata": {},
   "outputs": [
    {
     "name": "stdout",
     "output_type": "stream",
     "text": [
      "9\n",
      "-3\n",
      "18\n",
      "0.5\n",
      "3\n",
      "729\n",
      "[1 0 0 0]\n"
     ]
    }
   ],
   "source": [
    "a=3\n",
    "b=6\n",
    "c=np.add(a,b)\n",
    "print(c)\n",
    "print(np.subtract(a,b))\n",
    "print(np.multiply(a,b))\n",
    "print(np.divide(a,b))\n",
    "print(np.mod(a,b))\n",
    "print(np.power(a,b))\n",
    "addi = np.array([1,2,3,4]) \n",
    "re=np.reciprocal(addi)  #number ne reverse kare\n",
    "print(re)"
   ]
  },
  {
   "cell_type": "code",
   "execution_count": 117,
   "id": "3e41eabc-d9cc-4e30-902f-3231f4709b90",
   "metadata": {},
   "outputs": [
    {
     "name": "stdout",
     "output_type": "stream",
     "text": [
      "[1 2 3 4]\n",
      "[4 5 6 7]\n",
      "\n",
      "[2 3 4 5]\n",
      "[3 5 7 9]\n",
      "\n",
      "[3 5 7 9]\n"
     ]
    }
   ],
   "source": [
    "add = np.array([1,2,3,4])\n",
    "print(add)\n",
    "varadd=add+3\n",
    "print(varadd)\n",
    "print()\n",
    "add1=np.array([2,3,4,5])\n",
    "print(add1)\n",
    "print(add+add1)\n",
    "print()\n",
    "# using function\n",
    "addition=np.add(add,add1)\n",
    "print(addition)"
   ]
  },
  {
   "cell_type": "code",
   "execution_count": 120,
   "id": "4b794708-d883-42ee-8c64-c63c0b5daed0",
   "metadata": {},
   "outputs": [
    {
     "name": "stdout",
     "output_type": "stream",
     "text": [
      "[[1 2 3 4]\n",
      " [1 2 3 4]]\n",
      "2\n",
      "[[2 4 6 8]\n",
      " [2 4 6 8]]\n"
     ]
    }
   ],
   "source": [
    "var11=np.array([[1,2,3,4],[1,2,3,4]])\n",
    "var12=np.array([[1,2,3,4],[1,2,3,4]])\n",
    "print(var2)\n",
    "print(var2.ndim)\n",
    "varadd1=np.add(var11,var12)\n",
    "print(varadd1)"
   ]
  },
  {
   "cell_type": "code",
   "execution_count": 132,
   "id": "293d6ba7-b082-42d8-bd1d-3e684029990e",
   "metadata": {},
   "outputs": [
    {
     "name": "stdout",
     "output_type": "stream",
     "text": [
      "[ 1  2  3  4  5  8 90]\n",
      "1\n",
      "90\n",
      "[1.         1.41421356 1.73205081 2.         2.23606798 2.82842712\n",
      " 9.48683298]\n",
      "min :  1 0\n",
      "max :  90 6\n"
     ]
    }
   ],
   "source": [
    "add = np.array([1,2,3,4,5,8,90])\n",
    "print(add)\n",
    "print(np.min(add))\n",
    "print(np.max(add))\n",
    "print(np.sqrt(add))\n",
    "print(\"min : \",np.min(add),np.argmin(add))\n",
    "print(\"max : \",np.max(add),np.argmax(add))"
   ]
  },
  {
   "cell_type": "code",
   "execution_count": 138,
   "id": "c94f3678-8775-4cbe-9fcb-ebdeaade4152",
   "metadata": {},
   "outputs": [
    {
     "name": "stdout",
     "output_type": "stream",
     "text": [
      "[ 3 60]\n"
     ]
    }
   ],
   "source": [
    "var1=np.array([[2,1,3],[60,8,9]])\n",
    "print(np.max(var1,axis=1))\n"
   ]
  },
  {
   "cell_type": "code",
   "execution_count": 140,
   "id": "090db386-2421-4368-b4d6-33733b019146",
   "metadata": {},
   "outputs": [
    {
     "name": "stdout",
     "output_type": "stream",
     "text": [
      "[0.90929743 0.84147098 0.14112001]\n",
      "[-0.41614684  0.54030231 -0.9899925 ]\n",
      "[2 3 6]\n"
     ]
    }
   ],
   "source": [
    "var1=np.array([2,1,3])\n",
    "print(np.sin(var1))\n",
    "print(np.cos(var1))\n",
    "print(np.cumsum(var1))"
   ]
  },
  {
   "cell_type": "markdown",
   "id": "2cced980-d540-425d-829e-2cd29d0128b5",
   "metadata": {},
   "source": [
    "## shape"
   ]
  },
  {
   "cell_type": "code",
   "execution_count": 155,
   "id": "d4200f45-358a-46d7-89f3-bcce9da356ab",
   "metadata": {},
   "outputs": [
    {
     "name": "stdout",
     "output_type": "stream",
     "text": [
      "(2, 3)\n",
      "[[[[1 3 2 4]]]]\n",
      "4\n"
     ]
    }
   ],
   "source": [
    "var1=np.array([[2,1,3],[6,8,9]])\n",
    "print(var1.shape)\n",
    "\n",
    "var2=np.array([1,3,2,4],ndmin=4)\n",
    "print(var2)\n",
    "print(var2.ndim)"
   ]
  },
  {
   "cell_type": "code",
   "execution_count": 151,
   "id": "e2137130-3a90-4e1a-9218-d9944aa986f5",
   "metadata": {},
   "outputs": [
    {
     "name": "stdout",
     "output_type": "stream",
     "text": [
      "[ 1  2  3  4  5  6  7  8  9 10 11 12]\n",
      "[[[ 1  2]\n",
      "  [ 3  4]\n",
      "  [ 5  6]]\n",
      "\n",
      " [[ 7  8]\n",
      "  [ 9 10]\n",
      "  [11 12]]]\n",
      "[ 1  2  3  4  5  6  7  8  9 10 11 12]\n"
     ]
    }
   ],
   "source": [
    "var9=np.array([1,2,3,4,5,6,7,8,9,10,11,12])\n",
    "print(var9)\n",
    "\n",
    "x1=(var9.ndim)\n",
    "x1=var9.reshape(2,3,2)\n",
    "print(x1)\n",
    "one=x1.reshape(-1)\n",
    "print(one)\n"
   ]
  },
  {
   "cell_type": "code",
   "execution_count": 154,
   "id": "de940177-7a16-466a-a67d-3cf1ae100711",
   "metadata": {},
   "outputs": [
    {
     "name": "stdout",
     "output_type": "stream",
     "text": [
      "(6,)\n"
     ]
    }
   ],
   "source": [
    "var6=np.array([1,2,3,4,5,6])\n",
    "print(var6.shape)"
   ]
  },
  {
   "cell_type": "code",
   "execution_count": 156,
   "id": "17856c33-52f5-4cf0-b3a6-69a13a903033",
   "metadata": {},
   "outputs": [
    {
     "name": "stdout",
     "output_type": "stream",
     "text": [
      "(3, 1)\n"
     ]
    }
   ],
   "source": [
    "var1=np.array([[1],[2],[3]])\n",
    "print(var1.shape)"
   ]
  },
  {
   "cell_type": "code",
   "execution_count": 157,
   "id": "ae841614-097f-44ae-9d6b-ce350e3085b8",
   "metadata": {},
   "outputs": [
    {
     "name": "stdout",
     "output_type": "stream",
     "text": [
      "[[2 3 4 5 6 7]\n",
      " [3 4 5 6 7 8]\n",
      " [4 5 6 7 8 9]]\n"
     ]
    }
   ],
   "source": [
    "print(var6+var1)"
   ]
  },
  {
   "cell_type": "markdown",
   "id": "183d639d-948c-4f80-989a-4322e49f9e21",
   "metadata": {},
   "source": [
    "### copy v/s view\n"
   ]
  },
  {
   "cell_type": "code",
   "execution_count": 160,
   "id": "d215aa63-8cf3-4541-9420-5eee24e7a775",
   "metadata": {},
   "outputs": [
    {
     "name": "stdout",
     "output_type": "stream",
     "text": [
      "[1 4 3 4 5 6]\n",
      "[1 2 3 4 5 6]\n"
     ]
    }
   ],
   "source": [
    "x=np.array([1,2,3,4,5,6])\n",
    "c=x.copy()\n",
    "x[1]=4\n",
    "print(x)\n",
    "print(c)"
   ]
  },
  {
   "cell_type": "code",
   "execution_count": 165,
   "id": "9beb6129-b5e3-49d7-b27d-f46ce1ce3384",
   "metadata": {},
   "outputs": [
    {
     "name": "stdout",
     "output_type": "stream",
     "text": [
      "[ 4 40  6  7]\n",
      "[ 4 40  6  7]\n"
     ]
    }
   ],
   "source": [
    "y=np.array([4,5,6,7])\n",
    "z=y.view()\n",
    "y[1]=40\n",
    "print(y)\n",
    "print(z)"
   ]
  },
  {
   "cell_type": "code",
   "execution_count": 178,
   "id": "afe845cd-8b88-48a9-9015-3c8da75f82a6",
   "metadata": {},
   "outputs": [],
   "source": [
    "from turtle import*\n",
    "bgcolor(\"black\")\n",
    "speed(0)\n",
    "pensize(2)\n",
    "hideturtle()\n",
    "for i in range(90):\n",
    "    color(\"olive\")\n",
    "    circle(i)\n",
    "    color(\"cyan\")\n",
    "    circle(i*1.5)\n",
    "    right(5)\n",
    "    forward(3)\n",
    "done()"
   ]
  },
  {
   "cell_type": "code",
   "execution_count": 3,
   "id": "f270115e-600e-4bfc-8641-026bd21ed1ab",
   "metadata": {},
   "outputs": [],
   "source": [
    "from turtle import *\n",
    "import colorsys\n",
    "speed(0)\n",
    "bgcolor(\"black\")\n",
    "h=0\n",
    "for i in range(16):\n",
    "    for j in range(18):\n",
    "        c=colorsys.hsv_to_rgb(h,1,1)\n",
    "        color(c)\n",
    "        h+=0.005\n",
    "        rt(90)\n",
    "        circle(150-j*6,90)\n",
    "        lt(90)\n",
    "        circle(150-j*6,90)\n",
    "        rt(180)\n",
    "    circle(40,24)\n",
    "done()"
   ]
  },
  {
   "cell_type": "code",
   "execution_count": 186,
   "id": "9dea154f-9f09-4e23-bac2-b93ebcfcee94",
   "metadata": {},
   "outputs": [
    {
     "name": "stdout",
     "output_type": "stream",
     "text": [
      "9\n",
      "6\n",
      "[[[1 2]\n",
      "  [6 7]]]\n",
      "3\n",
      "7\n"
     ]
    }
   ],
   "source": [
    "# find index\n",
    "var=np.array([8,9,0,6])\n",
    "print(var[1])\n",
    "print(var[-1])\n",
    "x=np.array([[[1,2],[6,7]]])\n",
    "print(x)\n",
    "print(x.ndim)\n",
    "print(x[0,1,1])"
   ]
  },
  {
   "cell_type": "code",
   "execution_count": 195,
   "id": "d0b56943-b87a-45ce-913b-d1c02c2aaf11",
   "metadata": {},
   "outputs": [
    {
     "name": "stdout",
     "output_type": "stream",
     "text": [
      "2 to 5 [2 3 4 5]\n",
      "\n",
      "[[11 12 32  8]]\n"
     ]
    }
   ],
   "source": [
    "var=np.array([1,2,3,4,5,6])\n",
    "print(\"2 to 5\",var[1:5])\n",
    "print()\n",
    "y=np.array([[[9,8,7,6],[11,12,32,8]]])\n",
    "print(y[0,1:4])"
   ]
  },
  {
   "cell_type": "markdown",
   "id": "5fe6657b-3988-4d79-8dfd-383b351748ff",
   "metadata": {},
   "source": [
    "## Iterating"
   ]
  },
  {
   "cell_type": "code",
   "execution_count": 196,
   "id": "a9f1cdf7-30c4-4409-9c07-c08d57a1dfe1",
   "metadata": {},
   "outputs": [
    {
     "name": "stdout",
     "output_type": "stream",
     "text": [
      "8\n",
      "9\n",
      "0\n",
      "6\n"
     ]
    }
   ],
   "source": [
    "var=np.array([8,9,0,6])\n",
    "for i in var:\n",
    "    print(i)"
   ]
  },
  {
   "cell_type": "code",
   "execution_count": 200,
   "id": "b604095a-b45d-421c-9551-d06dacbeeee7",
   "metadata": {},
   "outputs": [
    {
     "name": "stdout",
     "output_type": "stream",
     "text": [
      "9\n",
      "8\n",
      "7\n",
      "6\n",
      "11\n",
      "12\n",
      "32\n",
      "8\n"
     ]
    }
   ],
   "source": [
    "y=np.array([[9,8,7,6],[11,12,32,8]])\n",
    "for j in y:\n",
    "    for k in j:\n",
    "        print(k)\n",
    "    "
   ]
  },
  {
   "cell_type": "code",
   "execution_count": 202,
   "id": "bfdffa1d-488a-4ab6-986f-dcdf107e1fc9",
   "metadata": {},
   "outputs": [
    {
     "name": "stdout",
     "output_type": "stream",
     "text": [
      "[[[ 9  8  7  6]\n",
      "  [11 12 32  8]]]\n",
      "9\n",
      "8\n",
      "7\n",
      "6\n",
      "11\n",
      "12\n",
      "32\n",
      "8\n"
     ]
    }
   ],
   "source": [
    "y=np.array([[[9,8,7,6],[11,12,32,8]]])\n",
    "print(y)\n",
    "for i in np.nditer(y):\n",
    "    print(i)"
   ]
  },
  {
   "cell_type": "code",
   "execution_count": 208,
   "id": "4ec00568-a767-49be-988f-d9899b9fe6a6",
   "metadata": {},
   "outputs": [
    {
     "ename": "SyntaxError",
     "evalue": "positional argument follows keyword argument (204588942.py, line 1)",
     "output_type": "error",
     "traceback": [
      "\u001b[0;36m  Cell \u001b[0;32mIn[208], line 1\u001b[0;36m\u001b[0m\n\u001b[0;31m    for i in np.nditer(y,flags=['buffered'],np.dtype==[\"s\"]):\u001b[0m\n\u001b[0m                                                           ^\u001b[0m\n\u001b[0;31mSyntaxError\u001b[0m\u001b[0;31m:\u001b[0m positional argument follows keyword argument\n"
     ]
    }
   ],
   "source": [
    "for i in np.nditer(y,flags=['buffered'],np.dtype==[\"s\"]):\n",
    "    print(i)"
   ]
  },
  {
   "cell_type": "code",
   "execution_count": 206,
   "id": "896445ef-5f9d-4e43-a8cf-43f5682be0cf",
   "metadata": {},
   "outputs": [
    {
     "name": "stdout",
     "output_type": "stream",
     "text": [
      "(0, 0, 0) 9\n",
      "(0, 0, 1) 8\n",
      "(0, 0, 2) 7\n",
      "(0, 0, 3) 6\n",
      "(0, 1, 0) 11\n",
      "(0, 1, 1) 12\n",
      "(0, 1, 2) 32\n",
      "(0, 1, 3) 8\n"
     ]
    }
   ],
   "source": [
    "# with index iterating\n",
    "for i,d in np.ndenumerate(y):\n",
    "    print(i,d)"
   ]
  },
  {
   "cell_type": "code",
   "execution_count": 210,
   "id": "81a591ad-3cb8-458e-af23-b5fdd0864101",
   "metadata": {},
   "outputs": [
    {
     "name": "stdout",
     "output_type": "stream",
     "text": [
      "[8 9 0 6 1 2]\n",
      "[array([8, 9]), array([0, 6]), array([1, 2])]\n",
      "[8 9]\n"
     ]
    }
   ],
   "source": [
    "var=np.array([8,9,0,6,1,2])\n",
    "print(var)\n",
    "ar=np.array_split(var,3)\n",
    "print(ar)\n",
    "print(ar[0])\n"
   ]
  },
  {
   "cell_type": "code",
   "execution_count": 8,
   "id": "6b9ae2c0-af39-43bd-9e72-92019a17a073",
   "metadata": {},
   "outputs": [
    {
     "name": "stdout",
     "output_type": "stream",
     "text": [
      "['a' 'd']\n"
     ]
    }
   ],
   "source": [
    "# filter \n",
    "import numpy as np\n",
    "var_3=np.array([\"a\",\"b\",\"c\",\"d\"])\n",
    "f=[True,False,False,True]\n",
    "new_a=var_3[f]\n",
    "print(new_a)"
   ]
  },
  {
   "cell_type": "markdown",
   "id": "074a0a8d-88f5-4313-b1ba-bdd65e633dae",
   "metadata": {},
   "source": [
    "## Arithmetic function"
   ]
  },
  {
   "cell_type": "code",
   "execution_count": 10,
   "id": "fd895f5c-7cc4-45cf-850e-7ac90632231a",
   "metadata": {},
   "outputs": [
    {
     "name": "stdout",
     "output_type": "stream",
     "text": [
      "[5 1 3 4 2]\n"
     ]
    }
   ],
   "source": [
    "v=np.array([1,2,3,4,5])\n",
    "np.random.shuffle(v)\n",
    "print(v)"
   ]
  },
  {
   "cell_type": "code",
   "execution_count": 13,
   "id": "9823acd3-fec9-453d-9ad0-67a91700e6ce",
   "metadata": {},
   "outputs": [
    {
     "name": "stdout",
     "output_type": "stream",
     "text": [
      "[0 1 2 3 4 5]\n"
     ]
    }
   ],
   "source": [
    "v=np.array([1,2,3,4,5,4,3,0])\n",
    "x=np.unique(v)\n",
    "print(x)"
   ]
  },
  {
   "cell_type": "code",
   "execution_count": 14,
   "id": "48301144-c11e-467d-89eb-a71514c52802",
   "metadata": {},
   "outputs": [
    {
     "name": "stdout",
     "output_type": "stream",
     "text": [
      "(array([0, 1, 2, 3, 4, 5]), array([7, 0, 1, 2, 3, 4]))\n",
      "(array([0, 1, 2, 3, 4, 5]), array([1, 1, 1, 2, 2, 1]))\n"
     ]
    }
   ],
   "source": [
    "v=np.array([1,2,3,4,5,4,3,0])\n",
    "x=np.unique(v,return_index=True)\n",
    "y=np.unique(v,return_counts=True)\n",
    "print(x)\n",
    "print(y)"
   ]
  },
  {
   "cell_type": "code",
   "execution_count": 28,
   "id": "f41c4832-cdc7-4e3c-a7bf-550663f67af6",
   "metadata": {},
   "outputs": [
    {
     "name": "stdout",
     "output_type": "stream",
     "text": [
      "[[1 2 3]\n",
      " [1 2 3]]\n",
      "\n",
      "[[ 1  2  3]\n",
      " [22 33 44]\n",
      " [ 1  2  3]]\n",
      "\n",
      "[[ 1  2  3]\n",
      " [ 1  2  3]\n",
      " [23 45 66]]\n"
     ]
    }
   ],
   "source": [
    "# insert & delete\n",
    "var1=np.array([[1,2,3],[1,2,3]])\n",
    "print(var1)\n",
    "print()\n",
    "v1=np.insert(var1,1,[22,33,44],axis=0)\n",
    "print(v1)\n",
    "print()\n",
    "v1=np.append(var1,[[23,45,66]],axis=0)\n",
    "print(v1)"
   ]
  },
  {
   "cell_type": "markdown",
   "id": "c94db272-67e2-4bf8-b72f-88e89a3de7f6",
   "metadata": {},
   "source": [
    "## Matrix"
   ]
  },
  {
   "cell_type": "code",
   "execution_count": 37,
   "id": "f4e3d7e0-3c76-404d-a21e-9b35f2ff24a4",
   "metadata": {},
   "outputs": [
    {
     "name": "stdout",
     "output_type": "stream",
     "text": [
      "<class 'numpy.matrix'>\n",
      "[[2 4 6]\n",
      " [2 4 6]]\n",
      "\n"
     ]
    }
   ],
   "source": [
    "import numpy as np\n",
    "var =np.matrix([[1,2,3],[1,2,3]])\n",
    "var1 =np.matrix([[1,2,3],[1,2,3]])\n",
    "print(type(var))\n",
    "print(var+var1)\n",
    "print()\n"
   ]
  },
  {
   "cell_type": "code",
   "execution_count": 39,
   "id": "b0e3608a-17c5-4035-8453-c9afdce2bcf8",
   "metadata": {},
   "outputs": [
    {
     "name": "stdout",
     "output_type": "stream",
     "text": [
      "[[ 7 10]\n",
      " [15 22]]\n",
      "\n",
      "[[32 33]\n",
      " [60 61]]\n"
     ]
    }
   ],
   "source": [
    "var =np.matrix([[1,2],[3,4]])\n",
    "var1 =np.matrix([[1,2],[3,4]])\n",
    "print(var.dot(var1))\n",
    "\n",
    "print()\n",
    "var =np.matrix([[4,5],[8,9]])\n",
    "var1 =np.matrix([[3,2],[4,5]])\n",
    "print(var.dot(var1))"
   ]
  }
 ],
 "metadata": {
  "kernelspec": {
   "display_name": "Python 3 (ipykernel)",
   "language": "python",
   "name": "python3"
  },
  "language_info": {
   "codemirror_mode": {
    "name": "ipython",
    "version": 3
   },
   "file_extension": ".py",
   "mimetype": "text/x-python",
   "name": "python",
   "nbconvert_exporter": "python",
   "pygments_lexer": "ipython3",
   "version": "3.10.12"
  }
 },
 "nbformat": 4,
 "nbformat_minor": 5
}
